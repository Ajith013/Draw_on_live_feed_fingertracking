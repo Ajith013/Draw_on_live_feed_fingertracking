{
 "cells": [
  {
   "cell_type": "code",
   "execution_count": 1,
   "metadata": {},
   "outputs": [],
   "source": [
    "import cv2\n",
    "import mediapipe as mp\n",
    "import numpy as np\n",
    "\n",
    "mp_drawing = mp.solutions.drawing_utils\n",
    "mp_drawing_styles = mp.solutions.drawing_styles\n",
    "mp_hands = mp.solutions.hands\n",
    "\n"
   ]
  },
  {
   "cell_type": "code",
   "execution_count": 2,
   "metadata": {},
   "outputs": [],
   "source": [
    "def fingertip(hand_landmarks,image):\n",
    "    val = hand_landmarks\n",
    "    val2 = str(val)\n",
    "    st = val2.split(\"landmark\")\n",
    "    arr = st[9].split(\"\\n\")\n",
    "    h_loc_y = float(arr[2].split(\" \")[3])\n",
    "    h_loc_x = float(arr[1].split(\" \")[3])\n",
    "    h_loc_z = float(arr[3].split(\" \")[3])\n",
    "    h_loc_y = float(h_loc_y*480)\n",
    "    h_loc_x = float(h_loc_x*640)\n",
    "    image = cv2.flip(image, 1)\n",
    "    image = cv2.flip(image, 1)\n",
    "    return image"
   ]
  },
  {
   "cell_type": "code",
   "execution_count": 3,
   "metadata": {},
   "outputs": [],
   "source": [
    "def tip(hand_landmarks,image, a):\n",
    "    val = hand_landmarks\n",
    "    val2 = str(val)\n",
    "    st = val2.split(\"landmark\")\n",
    "    arr = st[a].split(\"\\n\")\n",
    "    h_loc_y = float(arr[2].split(\" \")[3])\n",
    "    h_loc_x = float(arr[1].split(\" \")[3])\n",
    "    h_loc_z = float(arr[3].split(\" \")[3])\n",
    "    h_loc_y = float(h_loc_y*480)\n",
    "    h_loc_x = float(h_loc_x*640)\n",
    "    co = np.array((h_loc_x, h_loc_y))\n",
    "    return co"
   ]
  },
  {
   "cell_type": "code",
   "execution_count": 4,
   "metadata": {},
   "outputs": [],
   "source": [
    "def split(arr, cond):\n",
    "      return [arr[cond], arr[~cond]]"
   ]
  },
  {
   "cell_type": "code",
   "execution_count": 5,
   "metadata": {},
   "outputs": [],
   "source": [
    "def array_split(newarr):\n",
    "    index = np.where(newarr=='b')\n",
    "    index = np.array(index)\n",
    "    index = index.astype(int)\n",
    "    arrays = np.split(newarr,index[0])\n",
    "    return arrays"
   ]
  },
  {
   "cell_type": "code",
   "execution_count": 6,
   "metadata": {},
   "outputs": [],
   "source": [
    "def text_wrapper(image, a, b, flag, x1, y1, arr):\n",
    "    euc = np.linalg.norm(a-b)\n",
    "    image = cv2.flip(image,1)\n",
    "    if euc <= 60:\n",
    "        \n",
    "        image = cv2.putText(image, str(\"Write\"), (50,80), cv2.FONT_HERSHEY_SIMPLEX,1, (0,0,0),2,cv2.LINE_AA)\n",
    "        if flag == 0:\n",
    "            x1,y1 = a[0],a[1]\n",
    "            arr.append((int(x1),int(y1)))\n",
    "            nparr = np.array(arr)\n",
    "        else:\n",
    "            x2,y2 = a[0],a[1]\n",
    "            arr.append((int(x2),int(y2)))\n",
    "\n",
    "            nparr = np.array(arr)\n",
    "            x1,y1 = x2,y2\n",
    "        flag = 1\n",
    "        \n",
    "    else:\n",
    "        flag = 0\n",
    "        arr.append(\"b\")\n",
    "        nparr = np.array(arr)\n",
    "    image = cv2.flip(image,1)\n",
    "    return image, flag, x1, y1, nparr"
   ]
  },
  {
   "cell_type": "code",
   "execution_count": 7,
   "metadata": {},
   "outputs": [],
   "source": [
    "cap = cv2.VideoCapture(0)\n",
    "flag = 0\n",
    "x1,y1 = 0,0\n",
    "arr = []\n",
    "nparr = np.array(arr)\n",
    "with mp_hands.Hands(\n",
    "    model_complexity=0,\n",
    "    min_detection_confidence=0.5,\n",
    "    min_tracking_confidence=0.5) as hands:\n",
    "  while cap.isOpened():\n",
    "    success, image = cap.read()\n",
    "    if not success:\n",
    "      print(\"Ignoring empty camera frame.\")\n",
    "      # If loading a video, use 'break' instead of 'continue'.\n",
    "      continue\n",
    "\n",
    "    # To improve performance, optionally mark the image as not writeable to\n",
    "    # pass by reference.\n",
    "    image.flags.writeable = False\n",
    "    image = cv2.cvtColor(image, cv2.COLOR_BGR2RGB)\n",
    "    results = hands.process(image)\n",
    "\n",
    "    # Draw the hand annotations on the image.\n",
    "    image.flags.writeable = True\n",
    "    image = cv2.cvtColor(image, cv2.COLOR_RGB2BGR)\n",
    "    if results.multi_hand_landmarks:\n",
    "      for hand_landmarks in results.multi_hand_landmarks:\n",
    "        #mp_drawing.draw_landmarks(image,hand_landmarks,mp_hands.HAND_CONNECTIONS,mp_drawing_styles.get_default_hand_landmarks_style(),mp_drawing_styles.get_default_hand_connections_style())\n",
    "        \n",
    "        ind = tip(hand_landmarks, image, 9)\n",
    "        th = tip(hand_landmarks, image, 5)\n",
    "        image, flag1, x1, y1, nparr1 = text_wrapper(image, ind,th, flag, x1,y1,arr)\n",
    "        nparr = array_split(nparr1)\n",
    "        flag = flag1\n",
    "    #if cv2.waitKey(33) & 0xFF == ord('d'):\n",
    "        #nparr = np.empty[1,1]\n",
    " \n",
    "    # Flip the image horizontally for a selfie-view display.\n",
    "    for i in nparr:\n",
    "        nparr_s = i[i!='b']\n",
    "        for point1, point2 in zip(nparr_s, nparr_s[1:]): \n",
    "            cv2.line(image, point1, point2, [0, 255, 0], 2)\n",
    "            \n",
    "\n",
    "    image = cv2.resize(image, (720, 480))\n",
    "    cv2.imshow('MediaPipe Hands', cv2.flip(image, 1))\n",
    "    #if cv2.waitKey(5) & 0xFF == 27:\n",
    "     # break\n",
    "    pressedKey = cv2.waitKey(5) & 0xFF\n",
    "    if pressedKey == ord('q'):\n",
    "        break\n",
    "    elif pressedKey == ord('d'):\n",
    "        arr = []\n",
    "        image, flag1, x1, y1, nparr1 = text_wrapper(image, ind,th, flag, x1,y1,arr)\n",
    "        nparr = nparr1\n",
    "\n",
    "    \n",
    "cap.release()"
   ]
  },
  {
   "cell_type": "code",
   "execution_count": null,
   "metadata": {},
   "outputs": [],
   "source": []
  }
 ],
 "metadata": {
  "kernelspec": {
   "display_name": "Python 3",
   "language": "python",
   "name": "python3"
  },
  "language_info": {
   "codemirror_mode": {
    "name": "ipython",
    "version": 3
   },
   "file_extension": ".py",
   "mimetype": "text/x-python",
   "name": "python",
   "nbconvert_exporter": "python",
   "pygments_lexer": "ipython3",
   "version": "3.7.3"
  }
 },
 "nbformat": 4,
 "nbformat_minor": 2
}
